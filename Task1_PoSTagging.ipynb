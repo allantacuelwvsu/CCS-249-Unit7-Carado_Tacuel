{
 "cells": [
  {
   "cell_type": "code",
   "execution_count": 8,
   "id": "cf0ff212",
   "metadata": {},
   "outputs": [],
   "source": [
    "import nltk"
   ]
  },
  {
   "cell_type": "code",
   "execution_count": 9,
   "id": "6129955b",
   "metadata": {},
   "outputs": [
    {
     "name": "stderr",
     "output_type": "stream",
     "text": [
      "[nltk_data] Downloading package punkt to\n",
      "[nltk_data]     C:\\Users\\Lenovo\\AppData\\Roaming\\nltk_data...\n",
      "[nltk_data]   Package punkt is already up-to-date!\n",
      "[nltk_data] Downloading package averaged_perceptron_tagger to\n",
      "[nltk_data]     C:\\Users\\Lenovo\\AppData\\Roaming\\nltk_data...\n",
      "[nltk_data]   Package averaged_perceptron_tagger is already up-to-\n",
      "[nltk_data]       date!\n",
      "[nltk_data] Downloading package averaged_perceptron_tagger_eng to\n",
      "[nltk_data]     C:\\Users\\Lenovo\\AppData\\Roaming\\nltk_data...\n",
      "[nltk_data]   Package averaged_perceptron_tagger_eng is already up-to-\n",
      "[nltk_data]       date!\n"
     ]
    },
    {
     "data": {
      "text/plain": [
       "True"
      ]
     },
     "execution_count": 9,
     "metadata": {},
     "output_type": "execute_result"
    }
   ],
   "source": [
    "# punkt dependencies. taggers.\n",
    "nltk.download('punkt')\n",
    "nltk.download('averaged_perceptron_tagger')\n",
    "nltk.download('averaged_perceptron_tagger_eng')"
   ]
  },
  {
   "cell_type": "code",
   "execution_count": 10,
   "id": "b38dfadc",
   "metadata": {},
   "outputs": [
    {
     "name": "stdout",
     "output_type": "stream",
     "text": [
      "$: dollar\n",
      "    $ -$ --$ A$ C$ HK$ M$ NZ$ S$ U.S.$ US$\n",
      "'': closing quotation mark\n",
      "    ' ''\n",
      "(: opening parenthesis\n",
      "    ( [ {\n",
      "): closing parenthesis\n",
      "    ) ] }\n",
      ",: comma\n",
      "    ,\n",
      "--: dash\n",
      "    --\n",
      ".: sentence terminator\n",
      "    . ! ?\n",
      ":: colon or ellipsis\n",
      "    : ; ...\n",
      "CC: conjunction, coordinating\n",
      "    & 'n and both but either et for less minus neither nor or plus so\n",
      "    therefore times v. versus vs. whether yet\n",
      "CD: numeral, cardinal\n",
      "    mid-1890 nine-thirty forty-two one-tenth ten million 0.5 one forty-\n",
      "    seven 1987 twenty '79 zero two 78-degrees eighty-four IX '60s .025\n",
      "    fifteen 271,124 dozen quintillion DM2,000 ...\n",
      "DT: determiner\n",
      "    all an another any both del each either every half la many much nary\n",
      "    neither no some such that the them these this those\n",
      "EX: existential there\n",
      "    there\n",
      "FW: foreign word\n",
      "    gemeinschaft hund ich jeux habeas Haementeria Herr K'ang-si vous\n",
      "    lutihaw alai je jour objets salutaris fille quibusdam pas trop Monte\n",
      "    terram fiche oui corporis ...\n",
      "IN: preposition or conjunction, subordinating\n",
      "    astride among uppon whether out inside pro despite on by throughout\n",
      "    below within for towards near behind atop around if like until below\n",
      "    next into if beside ...\n",
      "JJ: adjective or numeral, ordinal\n",
      "    third ill-mannered pre-war regrettable oiled calamitous first separable\n",
      "    ectoplasmic battery-powered participatory fourth still-to-be-named\n",
      "    multilingual multi-disciplinary ...\n",
      "JJR: adjective, comparative\n",
      "    bleaker braver breezier briefer brighter brisker broader bumper busier\n",
      "    calmer cheaper choosier cleaner clearer closer colder commoner costlier\n",
      "    cozier creamier crunchier cuter ...\n",
      "JJS: adjective, superlative\n",
      "    calmest cheapest choicest classiest cleanest clearest closest commonest\n",
      "    corniest costliest crassest creepiest crudest cutest darkest deadliest\n",
      "    dearest deepest densest dinkiest ...\n",
      "LS: list item marker\n",
      "    A A. B B. C C. D E F First G H I J K One SP-44001 SP-44002 SP-44005\n",
      "    SP-44007 Second Third Three Two * a b c d first five four one six three\n",
      "    two\n",
      "MD: modal auxiliary\n",
      "    can cannot could couldn't dare may might must need ought shall should\n",
      "    shouldn't will would\n",
      "NN: noun, common, singular or mass\n",
      "    common-carrier cabbage knuckle-duster Casino afghan shed thermostat\n",
      "    investment slide humour falloff slick wind hyena override subhumanity\n",
      "    machinist ...\n",
      "NNP: noun, proper, singular\n",
      "    Motown Venneboerger Czestochwa Ranzer Conchita Trumplane Christos\n",
      "    Oceanside Escobar Kreisler Sawyer Cougar Yvette Ervin ODI Darryl CTCA\n",
      "    Shannon A.K.C. Meltex Liverpool ...\n",
      "NNPS: noun, proper, plural\n",
      "    Americans Americas Amharas Amityvilles Amusements Anarcho-Syndicalists\n",
      "    Andalusians Andes Andruses Angels Animals Anthony Antilles Antiques\n",
      "    Apache Apaches Apocrypha ...\n",
      "NNS: noun, common, plural\n",
      "    undergraduates scotches bric-a-brac products bodyguards facets coasts\n",
      "    divestitures storehouses designs clubs fragrances averages\n",
      "    subjectivists apprehensions muses factory-jobs ...\n",
      "PDT: pre-determiner\n",
      "    all both half many quite such sure this\n",
      "POS: genitive marker\n",
      "    ' 's\n",
      "PRP: pronoun, personal\n",
      "    hers herself him himself hisself it itself me myself one oneself ours\n",
      "    ourselves ownself self she thee theirs them themselves they thou thy us\n",
      "PRP$: pronoun, possessive\n",
      "    her his mine my our ours their thy your\n",
      "RB: adverb\n",
      "    occasionally unabatingly maddeningly adventurously professedly\n",
      "    stirringly prominently technologically magisterially predominately\n",
      "    swiftly fiscally pitilessly ...\n",
      "RBR: adverb, comparative\n",
      "    further gloomier grander graver greater grimmer harder harsher\n",
      "    healthier heavier higher however larger later leaner lengthier less-\n",
      "    perfectly lesser lonelier longer louder lower more ...\n",
      "RBS: adverb, superlative\n",
      "    best biggest bluntest earliest farthest first furthest hardest\n",
      "    heartiest highest largest least less most nearest second tightest worst\n",
      "RP: particle\n",
      "    aboard about across along apart around aside at away back before behind\n",
      "    by crop down ever fast for forth from go high i.e. in into just later\n",
      "    low more off on open out over per pie raising start teeth that through\n",
      "    under unto up up-pp upon whole with you\n",
      "SYM: symbol\n",
      "    % & ' '' ''. ) ). * + ,. < = > @ A[fj] U.S U.S.S.R * ** ***\n",
      "TO: \"to\" as preposition or infinitive marker\n",
      "    to\n",
      "UH: interjection\n",
      "    Goodbye Goody Gosh Wow Jeepers Jee-sus Hubba Hey Kee-reist Oops amen\n",
      "    huh howdy uh dammit whammo shucks heck anyways whodunnit honey golly\n",
      "    man baby diddle hush sonuvabitch ...\n",
      "VB: verb, base form\n",
      "    ask assemble assess assign assume atone attention avoid bake balkanize\n",
      "    bank begin behold believe bend benefit bevel beware bless boil bomb\n",
      "    boost brace break bring broil brush build ...\n",
      "VBD: verb, past tense\n",
      "    dipped pleaded swiped regummed soaked tidied convened halted registered\n",
      "    cushioned exacted snubbed strode aimed adopted belied figgered\n",
      "    speculated wore appreciated contemplated ...\n",
      "VBG: verb, present participle or gerund\n",
      "    telegraphing stirring focusing angering judging stalling lactating\n",
      "    hankerin' alleging veering capping approaching traveling besieging\n",
      "    encrypting interrupting erasing wincing ...\n",
      "VBN: verb, past participle\n",
      "    multihulled dilapidated aerosolized chaired languished panelized used\n",
      "    experimented flourished imitated reunifed factored condensed sheared\n",
      "    unsettled primed dubbed desired ...\n",
      "VBP: verb, present tense, not 3rd person singular\n",
      "    predominate wrap resort sue twist spill cure lengthen brush terminate\n",
      "    appear tend stray glisten obtain comprise detest tease attract\n",
      "    emphasize mold postpone sever return wag ...\n",
      "VBZ: verb, present tense, 3rd person singular\n",
      "    bases reconstructs marks mixes displeases seals carps weaves snatches\n",
      "    slumps stretches authorizes smolders pictures emerges stockpiles\n",
      "    seduces fizzes uses bolsters slaps speaks pleads ...\n",
      "WDT: WH-determiner\n",
      "    that what whatever which whichever\n",
      "WP: WH-pronoun\n",
      "    that what whatever whatsoever which who whom whosoever\n",
      "WP$: WH-pronoun, possessive\n",
      "    whose\n",
      "WRB: Wh-adverb\n",
      "    how however whence whenever where whereby whereever wherein whereof why\n",
      "``: opening quotation mark\n",
      "    ` ``\n"
     ]
    }
   ],
   "source": [
    "# Tag legends\n",
    "nltk.help.upenn_tagset()"
   ]
  },
  {
   "cell_type": "code",
   "execution_count": 11,
   "id": "88f7055a",
   "metadata": {},
   "outputs": [],
   "source": [
    "with open(\"corpus.txt\", \"r\") as f:\n",
    "    text = f.read()"
   ]
  },
  {
   "cell_type": "code",
   "execution_count": 12,
   "id": "907045af",
   "metadata": {},
   "outputs": [],
   "source": [
    "# Tokenize into sentences, then tokenize + tag words\n",
    "# Following example from sample unit 6 code: [(word, tag)], [sentence], [sentence], ...\n",
    "sentences = nltk.sent_tokenize(text)\n",
    "tagged_text = []\n",
    "\n",
    "for sentence in sentences:\n",
    "    tokens = nltk.word_tokenize(sentence)\n",
    "    tagged = nltk.pos_tag(tokens)\n",
    "    tagged_text.append(tagged)"
   ]
  },
  {
   "cell_type": "code",
   "execution_count": 7,
   "id": "1b244314",
   "metadata": {},
   "outputs": [
    {
     "name": "stdout",
     "output_type": "stream",
     "text": [
      "[[('The', 'DT'), ('most', 'RBS'), ('merciful', 'JJ'), ('thing', 'NN'), ('in', 'IN'), ('the', 'DT'), ('world', 'NN'), (',', ','), ('I', 'PRP'), ('think', 'VBP'), (',', ','), ('is', 'VBZ'), ('the', 'DT'), ('inability', 'NN'), ('of', 'IN'), ('the', 'DT'), ('human', 'JJ'), ('mind', 'NN'), ('to', 'TO'), ('correlate', 'VB'), ('all', 'DT'), ('its', 'PRP$'), ('contents', 'NNS'), ('.', '.')], [('We', 'PRP'), ('live', 'VBP'), ('on', 'IN'), ('a', 'DT'), ('placid', 'JJ'), ('island', 'NN'), ('of', 'IN'), ('ignorance', 'NN'), ('in', 'IN'), ('the', 'DT'), ('midst', 'NN'), ('of', 'IN'), ('black', 'JJ'), ('seas', 'NNS'), ('of', 'IN'), ('infinity', 'NN'), (',', ','), ('and', 'CC'), ('it', 'PRP'), ('was', 'VBD'), ('not', 'RB'), ('meant', 'JJ'), ('that', 'IN'), ('we', 'PRP'), ('should', 'MD'), ('voyage', 'VB'), ('far', 'RB'), ('.', '.')], [('The', 'DT'), ('sciences', 'NNS'), (',', ','), ('each', 'DT'), ('straining', 'NN'), ('in', 'IN'), ('its', 'PRP$'), ('own', 'JJ'), ('direction', 'NN'), (',', ','), ('have', 'VBP'), ('hitherto', 'VBN'), ('harmed', 'VBN'), ('us', 'PRP'), ('little', 'JJ'), (';', ':'), ('but', 'CC'), ('some', 'DT'), ('day', 'NN'), ('the', 'DT'), ('piecing', 'VBG'), ('together', 'NN'), ('of', 'IN'), ('dissociated', 'VBN'), ('knowledge', 'NN'), ('will', 'MD'), ('open', 'VB'), ('up', 'RP'), ('such', 'JJ'), ('terrifying', 'VBG'), ('vistas', 'NNS'), ('of', 'IN'), ('reality', 'NN'), (',', ','), ('and', 'CC'), ('of', 'IN'), ('our', 'PRP$'), ('frightful', 'JJ'), ('position', 'NN'), ('therein', 'NN'), (',', ','), ('that', 'IN'), ('we', 'PRP'), ('shall', 'MD'), ('either', 'RB'), ('go', 'VB'), ('mad', 'NN'), ('from', 'IN'), ('the', 'DT'), ('revelation', 'NN'), ('or', 'CC'), ('flee', 'NN'), ('from', 'IN'), ('the', 'DT'), ('deadly', 'JJ'), ('light', 'NN'), ('into', 'IN'), ('the', 'DT'), ('peace', 'NN'), ('and', 'CC'), ('safety', 'NN'), ('of', 'IN'), ('a', 'DT'), ('new', 'JJ'), ('dark', 'JJ'), ('age', 'NN'), ('.', '.')], [('Theosophists', 'NNS'), ('have', 'VBP'), ('guessed', 'VBN'), ('at', 'IN'), ('the', 'DT'), ('awesome', 'JJ'), ('grandeur', 'NN'), ('of', 'IN'), ('the', 'DT'), ('cosmic', 'JJ'), ('cycle', 'NN'), ('wherein', 'IN'), ('our', 'PRP$'), ('world', 'NN'), ('and', 'CC'), ('human', 'JJ'), ('race', 'NN'), ('form', 'NN'), ('transient', 'JJ'), ('incidents', 'NNS'), ('.', '.')], [('They', 'PRP'), ('have', 'VBP'), ('hinted', 'VBN'), ('at', 'IN'), ('strange', 'JJ'), ('survivals', 'NNS'), ('in', 'IN'), ('terms', 'NNS'), ('which', 'WDT'), ('would', 'MD'), ('freeze', 'VB'), ('the', 'DT'), ('blood', 'NN'), ('if', 'IN'), ('not', 'RB'), ('masked', 'VBN'), ('by', 'IN'), ('a', 'DT'), ('bland', 'NN'), ('optimism', 'NN'), ('.', '.')], [('But', 'CC'), ('it', 'PRP'), ('is', 'VBZ'), ('not', 'RB'), ('from', 'IN'), ('them', 'PRP'), ('that', 'IN'), ('there', 'EX'), ('came', 'VBD'), ('the', 'DT'), ('single', 'JJ'), ('glimpse', 'NN'), ('of', 'IN'), ('forbidden', 'JJ'), ('aeons', 'NNS'), ('which', 'WDT'), ('chills', 'VBP'), ('me', 'PRP'), ('when', 'WRB'), ('I', 'PRP'), ('think', 'VBP'), ('of', 'IN'), ('it', 'PRP'), ('and', 'CC'), ('maddens', 'VB'), ('me', 'PRP'), ('when', 'WRB'), ('I', 'PRP'), ('dream', 'VBP'), ('of', 'IN'), ('it', 'PRP'), ('.', '.')], [('That', 'DT'), ('glimpse', 'NN'), (',', ','), ('like', 'IN'), ('all', 'DT'), ('dread', 'JJ'), ('glimpses', 'NNS'), ('of', 'IN'), ('truth', 'NN'), (',', ','), ('flashed', 'VBN'), ('out', 'RP'), ('from', 'IN'), ('an', 'DT'), ('accidental', 'JJ'), ('piecing', 'NN'), ('together', 'RB'), ('of', 'IN'), ('separated', 'VBN'), ('thingsâ€', 'NN'), ('”', 'NN'), ('in', 'IN'), ('this', 'DT'), ('case', 'NN'), ('an', 'DT'), ('old', 'JJ'), ('newspaper', 'NN'), ('item', 'NN'), ('and', 'CC'), ('the', 'DT'), ('notes', 'NNS'), ('of', 'IN'), ('a', 'DT'), ('dead', 'JJ'), ('professor', 'NN'), ('.', '.')], [('I', 'PRP'), ('hope', 'VBP'), ('that', 'IN'), ('no', 'DT'), ('one', 'NN'), ('else', 'RB'), ('will', 'MD'), ('accomplish', 'VB'), ('this', 'DT'), ('piecing', 'VBG'), ('out', 'RP'), (';', ':'), ('certainly', 'RB'), (',', ','), ('if', 'IN'), ('I', 'PRP'), ('live', 'VBP'), (',', ','), ('I', 'PRP'), ('shall', 'MD'), ('never', 'RB'), ('knowingly', 'VB'), ('supply', 'VB'), ('a', 'DT'), ('link', 'NN'), ('in', 'IN'), ('so', 'RB'), ('hideous', 'JJ'), ('a', 'DT'), ('chain', 'NN'), ('.', '.')], [('I', 'PRP'), ('think', 'VBP'), ('that', 'IN'), ('the', 'DT'), ('professor', 'NN'), (',', ','), ('too', 'RB'), (',', ','), ('intended', 'VBD'), ('to', 'TO'), ('keep', 'VB'), ('silent', 'JJ'), ('regarding', 'VBG'), ('the', 'DT'), ('part', 'NN'), ('he', 'PRP'), ('knew', 'VBD'), (',', ','), ('and', 'CC'), ('that', 'IN'), ('he', 'PRP'), ('would', 'MD'), ('have', 'VB'), ('destroyed', 'VBN'), ('his', 'PRP$'), ('notes', 'NNS'), ('had', 'VBD'), ('not', 'RB'), ('sudden', 'JJ'), ('death', 'NN'), ('seized', 'VBD'), ('him', 'PRP'), ('.', '.')]]\n"
     ]
    }
   ],
   "source": [
    "print(tagged_text)"
   ]
  },
  {
   "cell_type": "markdown",
   "id": "a0522ffd",
   "metadata": {},
   "source": [
    "### Trad Model: **HMM**\n",
    "###### *from unit 6 sample*"
   ]
  },
  {
   "cell_type": "code",
   "execution_count": 23,
   "id": "4acef970",
   "metadata": {},
   "outputs": [],
   "source": [
    "import sys\n",
    "sys.path.append('./models')\n",
    "from models.HMM import HiddenMarkovModel\n",
    "\n",
    "tagger = HiddenMarkovModel()\n",
    "tagger.train(tagged_text)"
   ]
  },
  {
   "cell_type": "code",
   "execution_count": 24,
   "id": "cacb39f8",
   "metadata": {},
   "outputs": [
    {
     "name": "stdout",
     "output_type": "stream",
     "text": [
      "We         → PRP\n",
      "live       → VBP\n",
      "on         → IN\n",
      "a          → DT\n",
      "placid     → JJ\n",
      "island     → NN\n",
      "of         → IN\n",
      "ignorance  → NN\n",
      ".          → .\n"
     ]
    }
   ],
   "source": [
    "# HMM implementation\n",
    "import re\n",
    "sentence = \"We live on a placid island of ignorance.\"\n",
    "tokens = re.findall(r'\\b\\w+\\b|[^\\w\\s]', sentence)\n",
    "predicted_tags = tagger.viterbi(tokens)\n",
    "for word, tag in zip(tokens, predicted_tags):\n",
    "    print(f\"{word:10} → {tag}\")"
   ]
  },
  {
   "cell_type": "markdown",
   "id": "eeaf5418",
   "metadata": {},
   "source": [
    "### Trad Model: **Multinomial Naive Bayes**"
   ]
  },
  {
   "cell_type": "code",
   "execution_count": 10,
   "id": "86d2439c",
   "metadata": {},
   "outputs": [],
   "source": [
    "from models.NaiveBayes import MultinomialNaiveBayes\n",
    "nb_tagger = MultinomialNaiveBayes()\n",
    "nb_tagger.train(tagged_text)"
   ]
  },
  {
   "cell_type": "code",
   "execution_count": 11,
   "id": "38e1337a",
   "metadata": {},
   "outputs": [
    {
     "name": "stdout",
     "output_type": "stream",
     "text": [
      "We           → PRP\n",
      "live         → NN\n",
      "on           → IN\n",
      "a            → DT\n",
      "placid       → JJ\n",
      "island       → NN\n",
      "of           → IN\n",
      "ignorance    → NN\n",
      ".            → .\n"
     ]
    }
   ],
   "source": [
    "# Naive Bayes implementation\n",
    "sentence = \"We live on a placid island of ignorance.\"\n",
    "tokens = re.findall(r'\\b\\w+\\b|[^\\w\\s]', sentence)\n",
    "tags = nb_tagger.tag(tokens)\n",
    "\n",
    "for word, tag in tags:\n",
    "    print(f\"{word:12} → {tag}\")"
   ]
  },
  {
   "cell_type": "markdown",
   "id": "07b86b9a",
   "metadata": {},
   "source": [
    "Naive Bayes performs worse but that is expected"
   ]
  },
  {
   "cell_type": "markdown",
   "id": "0dd52d01",
   "metadata": {},
   "source": [
    "### NN Model: *TBA*"
   ]
  }
 ],
 "metadata": {
  "kernelspec": {
   "display_name": "base",
   "language": "python",
   "name": "python3"
  },
  "language_info": {
   "codemirror_mode": {
    "name": "ipython",
    "version": 3
   },
   "file_extension": ".py",
   "mimetype": "text/x-python",
   "name": "python",
   "nbconvert_exporter": "python",
   "pygments_lexer": "ipython3",
   "version": "3.11.7"
  }
 },
 "nbformat": 4,
 "nbformat_minor": 5
}
