{
 "cells": [
  {
   "cell_type": "code",
   "execution_count": 1,
   "id": "cf0ff212",
   "metadata": {},
   "outputs": [],
   "source": [
    "import nltk"
   ]
  },
  {
   "cell_type": "code",
   "execution_count": 2,
   "id": "6129955b",
   "metadata": {},
   "outputs": [
    {
     "name": "stderr",
     "output_type": "stream",
     "text": [
      "[nltk_data] Downloading package punkt to\n",
      "[nltk_data]     C:\\Users\\Lenovo\\AppData\\Roaming\\nltk_data...\n",
      "[nltk_data]   Package punkt is already up-to-date!\n",
      "[nltk_data] Downloading package averaged_perceptron_tagger to\n",
      "[nltk_data]     C:\\Users\\Lenovo\\AppData\\Roaming\\nltk_data...\n",
      "[nltk_data]   Package averaged_perceptron_tagger is already up-to-\n",
      "[nltk_data]       date!\n",
      "[nltk_data] Downloading package averaged_perceptron_tagger_eng to\n",
      "[nltk_data]     C:\\Users\\Lenovo\\AppData\\Roaming\\nltk_data...\n",
      "[nltk_data]   Package averaged_perceptron_tagger_eng is already up-to-\n",
      "[nltk_data]       date!\n"
     ]
    },
    {
     "data": {
      "text/plain": [
       "True"
      ]
     },
     "execution_count": 2,
     "metadata": {},
     "output_type": "execute_result"
    }
   ],
   "source": [
    "# punkt dependencies. taggers.\n",
    "nltk.download('punkt')\n",
    "nltk.download('averaged_perceptron_tagger')\n",
    "nltk.download('averaged_perceptron_tagger_eng')"
   ]
  },
  {
   "cell_type": "code",
   "execution_count": 3,
   "id": "b38dfadc",
   "metadata": {},
   "outputs": [
    {
     "name": "stdout",
     "output_type": "stream",
     "text": [
      "$: dollar\n",
      "    $ -$ --$ A$ C$ HK$ M$ NZ$ S$ U.S.$ US$\n",
      "'': closing quotation mark\n",
      "    ' ''\n",
      "(: opening parenthesis\n",
      "    ( [ {\n",
      "): closing parenthesis\n",
      "    ) ] }\n",
      ",: comma\n",
      "    ,\n",
      "--: dash\n",
      "    --\n",
      ".: sentence terminator\n",
      "    . ! ?\n",
      ":: colon or ellipsis\n",
      "    : ; ...\n",
      "CC: conjunction, coordinating\n",
      "    & 'n and both but either et for less minus neither nor or plus so\n",
      "    therefore times v. versus vs. whether yet\n",
      "CD: numeral, cardinal\n",
      "    mid-1890 nine-thirty forty-two one-tenth ten million 0.5 one forty-\n",
      "    seven 1987 twenty '79 zero two 78-degrees eighty-four IX '60s .025\n",
      "    fifteen 271,124 dozen quintillion DM2,000 ...\n",
      "DT: determiner\n",
      "    all an another any both del each either every half la many much nary\n",
      "    neither no some such that the them these this those\n",
      "EX: existential there\n",
      "    there\n",
      "FW: foreign word\n",
      "    gemeinschaft hund ich jeux habeas Haementeria Herr K'ang-si vous\n",
      "    lutihaw alai je jour objets salutaris fille quibusdam pas trop Monte\n",
      "    terram fiche oui corporis ...\n",
      "IN: preposition or conjunction, subordinating\n",
      "    astride among uppon whether out inside pro despite on by throughout\n",
      "    below within for towards near behind atop around if like until below\n",
      "    next into if beside ...\n",
      "JJ: adjective or numeral, ordinal\n",
      "    third ill-mannered pre-war regrettable oiled calamitous first separable\n",
      "    ectoplasmic battery-powered participatory fourth still-to-be-named\n",
      "    multilingual multi-disciplinary ...\n",
      "JJR: adjective, comparative\n",
      "    bleaker braver breezier briefer brighter brisker broader bumper busier\n",
      "    calmer cheaper choosier cleaner clearer closer colder commoner costlier\n",
      "    cozier creamier crunchier cuter ...\n",
      "JJS: adjective, superlative\n",
      "    calmest cheapest choicest classiest cleanest clearest closest commonest\n",
      "    corniest costliest crassest creepiest crudest cutest darkest deadliest\n",
      "    dearest deepest densest dinkiest ...\n",
      "LS: list item marker\n",
      "    A A. B B. C C. D E F First G H I J K One SP-44001 SP-44002 SP-44005\n",
      "    SP-44007 Second Third Three Two * a b c d first five four one six three\n",
      "    two\n",
      "MD: modal auxiliary\n",
      "    can cannot could couldn't dare may might must need ought shall should\n",
      "    shouldn't will would\n",
      "NN: noun, common, singular or mass\n",
      "    common-carrier cabbage knuckle-duster Casino afghan shed thermostat\n",
      "    investment slide humour falloff slick wind hyena override subhumanity\n",
      "    machinist ...\n",
      "NNP: noun, proper, singular\n",
      "    Motown Venneboerger Czestochwa Ranzer Conchita Trumplane Christos\n",
      "    Oceanside Escobar Kreisler Sawyer Cougar Yvette Ervin ODI Darryl CTCA\n",
      "    Shannon A.K.C. Meltex Liverpool ...\n",
      "NNPS: noun, proper, plural\n",
      "    Americans Americas Amharas Amityvilles Amusements Anarcho-Syndicalists\n",
      "    Andalusians Andes Andruses Angels Animals Anthony Antilles Antiques\n",
      "    Apache Apaches Apocrypha ...\n",
      "NNS: noun, common, plural\n",
      "    undergraduates scotches bric-a-brac products bodyguards facets coasts\n",
      "    divestitures storehouses designs clubs fragrances averages\n",
      "    subjectivists apprehensions muses factory-jobs ...\n",
      "PDT: pre-determiner\n",
      "    all both half many quite such sure this\n",
      "POS: genitive marker\n",
      "    ' 's\n",
      "PRP: pronoun, personal\n",
      "    hers herself him himself hisself it itself me myself one oneself ours\n",
      "    ourselves ownself self she thee theirs them themselves they thou thy us\n",
      "PRP$: pronoun, possessive\n",
      "    her his mine my our ours their thy your\n",
      "RB: adverb\n",
      "    occasionally unabatingly maddeningly adventurously professedly\n",
      "    stirringly prominently technologically magisterially predominately\n",
      "    swiftly fiscally pitilessly ...\n",
      "RBR: adverb, comparative\n",
      "    further gloomier grander graver greater grimmer harder harsher\n",
      "    healthier heavier higher however larger later leaner lengthier less-\n",
      "    perfectly lesser lonelier longer louder lower more ...\n",
      "RBS: adverb, superlative\n",
      "    best biggest bluntest earliest farthest first furthest hardest\n",
      "    heartiest highest largest least less most nearest second tightest worst\n",
      "RP: particle\n",
      "    aboard about across along apart around aside at away back before behind\n",
      "    by crop down ever fast for forth from go high i.e. in into just later\n",
      "    low more off on open out over per pie raising start teeth that through\n",
      "    under unto up up-pp upon whole with you\n",
      "SYM: symbol\n",
      "    % & ' '' ''. ) ). * + ,. < = > @ A[fj] U.S U.S.S.R * ** ***\n",
      "TO: \"to\" as preposition or infinitive marker\n",
      "    to\n",
      "UH: interjection\n",
      "    Goodbye Goody Gosh Wow Jeepers Jee-sus Hubba Hey Kee-reist Oops amen\n",
      "    huh howdy uh dammit whammo shucks heck anyways whodunnit honey golly\n",
      "    man baby diddle hush sonuvabitch ...\n",
      "VB: verb, base form\n",
      "    ask assemble assess assign assume atone attention avoid bake balkanize\n",
      "    bank begin behold believe bend benefit bevel beware bless boil bomb\n",
      "    boost brace break bring broil brush build ...\n",
      "VBD: verb, past tense\n",
      "    dipped pleaded swiped regummed soaked tidied convened halted registered\n",
      "    cushioned exacted snubbed strode aimed adopted belied figgered\n",
      "    speculated wore appreciated contemplated ...\n",
      "VBG: verb, present participle or gerund\n",
      "    telegraphing stirring focusing angering judging stalling lactating\n",
      "    hankerin' alleging veering capping approaching traveling besieging\n",
      "    encrypting interrupting erasing wincing ...\n",
      "VBN: verb, past participle\n",
      "    multihulled dilapidated aerosolized chaired languished panelized used\n",
      "    experimented flourished imitated reunifed factored condensed sheared\n",
      "    unsettled primed dubbed desired ...\n",
      "VBP: verb, present tense, not 3rd person singular\n",
      "    predominate wrap resort sue twist spill cure lengthen brush terminate\n",
      "    appear tend stray glisten obtain comprise detest tease attract\n",
      "    emphasize mold postpone sever return wag ...\n",
      "VBZ: verb, present tense, 3rd person singular\n",
      "    bases reconstructs marks mixes displeases seals carps weaves snatches\n",
      "    slumps stretches authorizes smolders pictures emerges stockpiles\n",
      "    seduces fizzes uses bolsters slaps speaks pleads ...\n",
      "WDT: WH-determiner\n",
      "    that what whatever which whichever\n",
      "WP: WH-pronoun\n",
      "    that what whatever whatsoever which who whom whosoever\n",
      "WP$: WH-pronoun, possessive\n",
      "    whose\n",
      "WRB: Wh-adverb\n",
      "    how however whence whenever where whereby whereever wherein whereof why\n",
      "``: opening quotation mark\n",
      "    ` ``\n"
     ]
    }
   ],
   "source": [
    "# Tag legends\n",
    "nltk.help.upenn_tagset()"
   ]
  },
  {
   "cell_type": "code",
   "execution_count": 97,
   "id": "88f7055a",
   "metadata": {},
   "outputs": [],
   "source": [
    "with open(\"corpus.txt\", \"r\") as f:\n",
    "    text = f.read()"
   ]
  },
  {
   "cell_type": "code",
   "execution_count": 98,
   "id": "907045af",
   "metadata": {},
   "outputs": [],
   "source": [
    "# Tokenize into sentences, then tokenize + tag words\n",
    "# Following example from sample unit 6 code: [(word, tag)], [sentence], [sentence], ...\n",
    "sentences = nltk.sent_tokenize(text)\n",
    "tagged_text = []\n",
    "\n",
    "for sentence in sentences:\n",
    "    tokens = nltk.word_tokenize(sentence)\n",
    "    tagged = nltk.pos_tag(tokens)\n",
    "    tagged_text.append(tagged)"
   ]
  },
  {
   "cell_type": "code",
   "execution_count": 99,
   "id": "1b244314",
   "metadata": {},
   "outputs": [
    {
     "name": "stdout",
     "output_type": "stream",
     "text": [
      "[[('The', 'DT'), ('most', 'RBS'), ('merciful', 'JJ'), ('thing', 'NN'), ('in', 'IN'), ('the', 'DT'), ('world', 'NN'), (',', ','), ('I', 'PRP'), ('think', 'VBP'), (',', ','), ('is', 'VBZ'), ('the', 'DT'), ('inability', 'NN'), ('of', 'IN'), ('the', 'DT'), ('human', 'JJ'), ('mind', 'NN'), ('to', 'TO'), ('correlate', 'VB'), ('all', 'DT'), ('its', 'PRP$'), ('contents', 'NNS'), ('.', '.')], [('We', 'PRP'), ('live', 'VBP'), ('on', 'IN'), ('a', 'DT'), ('placid', 'JJ'), ('island', 'NN'), ('of', 'IN'), ('ignorance', 'NN'), ('in', 'IN'), ('the', 'DT'), ('midst', 'NN'), ('of', 'IN'), ('black', 'JJ'), ('seas', 'NNS'), ('of', 'IN'), ('infinity', 'NN'), (',', ','), ('and', 'CC'), ('it', 'PRP'), ('was', 'VBD'), ('not', 'RB'), ('meant', 'JJ'), ('that', 'IN'), ('we', 'PRP'), ('should', 'MD'), ('voyage', 'VB'), ('far', 'RB'), ('.', '.')], [('The', 'DT'), ('sciences', 'NNS'), (',', ','), ('each', 'DT'), ('straining', 'NN'), ('in', 'IN'), ('its', 'PRP$'), ('own', 'JJ'), ('direction', 'NN'), (',', ','), ('have', 'VBP'), ('hitherto', 'VBN'), ('harmed', 'VBN'), ('us', 'PRP'), ('little', 'JJ'), (';', ':'), ('but', 'CC'), ('some', 'DT'), ('day', 'NN'), ('the', 'DT'), ('piecing', 'VBG'), ('together', 'NN'), ('of', 'IN'), ('dissociated', 'VBN'), ('knowledge', 'NN'), ('will', 'MD'), ('open', 'VB'), ('up', 'RP'), ('such', 'JJ'), ('terrifying', 'VBG'), ('vistas', 'NNS'), ('of', 'IN'), ('reality', 'NN'), (',', ','), ('and', 'CC'), ('of', 'IN'), ('our', 'PRP$'), ('frightful', 'JJ'), ('position', 'NN'), ('therein', 'NN'), (',', ','), ('that', 'IN'), ('we', 'PRP'), ('shall', 'MD'), ('either', 'RB'), ('go', 'VB'), ('mad', 'NN'), ('from', 'IN'), ('the', 'DT'), ('revelation', 'NN'), ('or', 'CC'), ('flee', 'NN'), ('from', 'IN'), ('the', 'DT'), ('deadly', 'JJ'), ('light', 'NN'), ('into', 'IN'), ('the', 'DT'), ('peace', 'NN'), ('and', 'CC'), ('safety', 'NN'), ('of', 'IN'), ('a', 'DT'), ('new', 'JJ'), ('dark', 'JJ'), ('age', 'NN'), ('.', '.')], [('Theosophists', 'NNS'), ('have', 'VBP'), ('guessed', 'VBN'), ('at', 'IN'), ('the', 'DT'), ('awesome', 'JJ'), ('grandeur', 'NN'), ('of', 'IN'), ('the', 'DT'), ('cosmic', 'JJ'), ('cycle', 'NN'), ('wherein', 'IN'), ('our', 'PRP$'), ('world', 'NN'), ('and', 'CC'), ('human', 'JJ'), ('race', 'NN'), ('form', 'NN'), ('transient', 'JJ'), ('incidents', 'NNS'), ('.', '.')], [('They', 'PRP'), ('have', 'VBP'), ('hinted', 'VBN'), ('at', 'IN'), ('strange', 'JJ'), ('survivals', 'NNS'), ('in', 'IN'), ('terms', 'NNS'), ('which', 'WDT'), ('would', 'MD'), ('freeze', 'VB'), ('the', 'DT'), ('blood', 'NN'), ('if', 'IN'), ('not', 'RB'), ('masked', 'VBN'), ('by', 'IN'), ('a', 'DT'), ('bland', 'NN'), ('optimism', 'NN'), ('.', '.')], [('But', 'CC'), ('it', 'PRP'), ('is', 'VBZ'), ('not', 'RB'), ('from', 'IN'), ('them', 'PRP'), ('that', 'IN'), ('there', 'EX'), ('came', 'VBD'), ('the', 'DT'), ('single', 'JJ'), ('glimpse', 'NN'), ('of', 'IN'), ('forbidden', 'JJ'), ('aeons', 'NNS'), ('which', 'WDT'), ('chills', 'VBP'), ('me', 'PRP'), ('when', 'WRB'), ('I', 'PRP'), ('think', 'VBP'), ('of', 'IN'), ('it', 'PRP'), ('and', 'CC'), ('maddens', 'VB'), ('me', 'PRP'), ('when', 'WRB'), ('I', 'PRP'), ('dream', 'VBP'), ('of', 'IN'), ('it', 'PRP'), ('.', '.')], [('That', 'DT'), ('glimpse', 'NN'), (',', ','), ('like', 'IN'), ('all', 'DT'), ('dread', 'JJ'), ('glimpses', 'NNS'), ('of', 'IN'), ('truth', 'NN'), (',', ','), ('flashed', 'VBN'), ('out', 'RP'), ('from', 'IN'), ('an', 'DT'), ('accidental', 'JJ'), ('piecing', 'NN'), ('together', 'RB'), ('of', 'IN'), ('separated', 'VBN'), ('things—in', 'NN'), ('this', 'DT'), ('case', 'NN'), ('an', 'DT'), ('old', 'JJ'), ('newspaper', 'NN'), ('item', 'NN'), ('and', 'CC'), ('the', 'DT'), ('notes', 'NNS'), ('of', 'IN'), ('a', 'DT'), ('dead', 'JJ'), ('professor', 'NN'), ('.', '.')], [('I', 'PRP'), ('hope', 'VBP'), ('that', 'IN'), ('no', 'DT'), ('one', 'NN'), ('else', 'RB'), ('will', 'MD'), ('accomplish', 'VB'), ('this', 'DT'), ('piecing', 'VBG'), ('out', 'RP'), (';', ':'), ('certainly', 'RB'), (',', ','), ('if', 'IN'), ('I', 'PRP'), ('live', 'VBP'), (',', ','), ('I', 'PRP'), ('shall', 'MD'), ('never', 'RB'), ('knowingly', 'VB'), ('supply', 'VB'), ('a', 'DT'), ('link', 'NN'), ('in', 'IN'), ('so', 'RB'), ('hideous', 'JJ'), ('a', 'DT'), ('chain', 'NN'), ('.', '.')], [('I', 'PRP'), ('think', 'VBP'), ('that', 'IN'), ('the', 'DT'), ('professor', 'NN'), (',', ','), ('too', 'RB'), (',', ','), ('intended', 'VBD'), ('to', 'TO'), ('keep', 'VB'), ('silent', 'JJ'), ('regarding', 'VBG'), ('the', 'DT'), ('part', 'NN'), ('he', 'PRP'), ('knew', 'VBD'), (',', ','), ('and', 'CC'), ('that', 'IN'), ('he', 'PRP'), ('would', 'MD'), ('have', 'VB'), ('destroyed', 'VBN'), ('his', 'PRP$'), ('notes', 'NNS'), ('had', 'VBD'), ('not', 'RB'), ('sudden', 'JJ'), ('death', 'NN'), ('seized', 'VBD'), ('him', 'PRP'), ('.', '.')]]\n"
     ]
    }
   ],
   "source": [
    "print(tagged_text)"
   ]
  },
  {
   "cell_type": "markdown",
   "id": "a0522ffd",
   "metadata": {},
   "source": [
    "### Trad Model: **HMM**\n",
    "###### *from unit 6 sample*"
   ]
  },
  {
   "cell_type": "code",
   "execution_count": 7,
   "id": "4acef970",
   "metadata": {},
   "outputs": [],
   "source": [
    "import sys\n",
    "sys.path.append('./models')\n",
    "from models.HMM import HiddenMarkovModel\n",
    "\n",
    "tagger = HiddenMarkovModel()\n",
    "tagger.train(tagged_text)"
   ]
  },
  {
   "cell_type": "code",
   "execution_count": 8,
   "id": "cacb39f8",
   "metadata": {},
   "outputs": [
    {
     "name": "stdout",
     "output_type": "stream",
     "text": [
      "We         → PRP\n",
      "live       → VBP\n",
      "on         → IN\n",
      "a          → DT\n",
      "placid     → JJ\n",
      "island     → NN\n",
      "of         → IN\n",
      "ignorance  → NN\n",
      ".          → .\n"
     ]
    }
   ],
   "source": [
    "# HMM implementation\n",
    "import re\n",
    "sentence = \"We live on a placid island of ignorance.\"\n",
    "tokens = re.findall(r'\\b\\w+\\b|[^\\w\\s]', sentence)\n",
    "predicted_tags = tagger.viterbi(tokens)\n",
    "for word, tag in zip(tokens, predicted_tags):\n",
    "    print(f\"{word:10} → {tag}\")"
   ]
  },
  {
   "cell_type": "markdown",
   "id": "eeaf5418",
   "metadata": {},
   "source": [
    "### Trad Model: **Multinomial Naive Bayes**"
   ]
  },
  {
   "cell_type": "code",
   "execution_count": 9,
   "id": "86d2439c",
   "metadata": {},
   "outputs": [],
   "source": [
    "from models.NaiveBayes import MultinomialNaiveBayes\n",
    "nb_tagger = MultinomialNaiveBayes()\n",
    "nb_tagger.train(tagged_text)"
   ]
  },
  {
   "cell_type": "code",
   "execution_count": 10,
   "id": "38e1337a",
   "metadata": {},
   "outputs": [
    {
     "name": "stdout",
     "output_type": "stream",
     "text": [
      "We           → PRP\n",
      "live         → NN\n",
      "on           → IN\n",
      "a            → DT\n",
      "placid       → JJ\n",
      "island       → NN\n",
      "of           → IN\n",
      "ignorance    → NN\n",
      ".            → .\n"
     ]
    }
   ],
   "source": [
    "# Naive Bayes implementation\n",
    "sentence = \"We live on a placid island of ignorance.\"\n",
    "tokens = re.findall(r'\\b\\w+\\b|[^\\w\\s]', sentence)\n",
    "tags = nb_tagger.tag(tokens)\n",
    "\n",
    "for word, tag in tags:\n",
    "    print(f\"{word:12} → {tag}\")"
   ]
  },
  {
   "cell_type": "markdown",
   "id": "07b86b9a",
   "metadata": {},
   "source": [
    "Naive Bayes performs worse but that is expected"
   ]
  },
  {
   "cell_type": "markdown",
   "id": "0dd52d01",
   "metadata": {},
   "source": [
    "### NN Model: *TBA*"
   ]
  },
  {
   "cell_type": "code",
   "execution_count": 100,
   "id": "1c4ee5b8",
   "metadata": {},
   "outputs": [],
   "source": [
    "from models.LSTM import LSTMPOSTagger, POSTagDataset, train_model, predict"
   ]
  },
  {
   "cell_type": "code",
   "execution_count": 85,
   "id": "984afb01",
   "metadata": {},
   "outputs": [],
   "source": [
    "word2idx = {'PAD': 0, 'UNK': 1}\n",
    "tag2idx = {'PAD': 0}\n",
    "\n",
    "for sent in tagged_text:\n",
    "    for word, tag in sent:\n",
    "        word_lower = word.lower()\n",
    "        if word_lower not in word2idx:\n",
    "            word2idx[word_lower] = len(word2idx)\n",
    "        if tag not in tag2idx:\n",
    "            tag2idx[tag] = len(tag2idx)\n",
    "\n",
    "idx2tag = {v: k for k, v in tag2idx.items()}"
   ]
  },
  {
   "cell_type": "code",
   "execution_count": 86,
   "id": "7f9f3b1c",
   "metadata": {},
   "outputs": [],
   "source": [
    "dataset = POSTagDataset(tagged_text, word2idx, tag2idx)\n",
    "\n",
    "LSTM = LSTMPOSTagger(\n",
    "    vocab_size=len(word2idx),\n",
    "    tagset_size=len(tag2idx),\n",
    "    embedding_dim=64,\n",
    "    hidden_dim=64,\n",
    "    pad_idx=word2idx['PAD']\n",
    ")"
   ]
  },
  {
   "cell_type": "code",
   "execution_count": 87,
   "id": "c562cd34",
   "metadata": {},
   "outputs": [
    {
     "name": "stdout",
     "output_type": "stream",
     "text": [
      "Epoch 1/5 - Loss: 3.2810\n",
      "Epoch 2/5 - Loss: 3.2640\n",
      "Epoch 3/5 - Loss: 3.2471\n",
      "Epoch 4/5 - Loss: 3.2303\n",
      "Epoch 5/5 - Loss: 3.2136\n"
     ]
    }
   ],
   "source": [
    "train_model(LSTM, dataset, tag2idx)"
   ]
  },
  {
   "cell_type": "code",
   "execution_count": 88,
   "id": "0a538294",
   "metadata": {},
   "outputs": [
    {
     "name": "stdout",
     "output_type": "stream",
     "text": [
      "We           → PRP$\n",
      "live         → NNS\n",
      "on           → VBP\n",
      "a            → IN\n",
      "placid       → IN\n",
      "island       → MD\n",
      "of           → MD\n",
      "ignorance    → MD\n",
      ".            → WDT\n"
     ]
    }
   ],
   "source": [
    "sentence = \"We live on a placid island of ignorance.\"\n",
    "tokens = re.findall(r'\\b\\w+\\b|[^\\w\\s]', sentence)\n",
    "tags = predict(LSTM, tokens, word2idx, idx2tag)\n",
    "\n",
    "for word, tag in tags:\n",
    "    print(f\"{word:12} → {tag}\")"
   ]
  },
  {
   "cell_type": "markdown",
   "id": "834b1929",
   "metadata": {},
   "source": [
    "Output is absolute garbage.\n",
    "LSTM needs either: 1. Bigger dataset or 2. More epochs instead of default 5\n",
    "\n",
    "We will do both."
   ]
  },
  {
   "cell_type": "code",
   "execution_count": 90,
   "id": "2698f1a9",
   "metadata": {},
   "outputs": [],
   "source": [
    "with open(\"corpus_big.txt\", \"r\") as f:\n",
    "    text_big = f.read()"
   ]
  },
  {
   "cell_type": "code",
   "execution_count": 112,
   "id": "20760022",
   "metadata": {},
   "outputs": [],
   "source": [
    "# Tokenize into sentences, then tokenize + tag words\n",
    "# Following example from sample unit 6 code: [(word, tag)], [sentence], [sentence], ...\n",
    "sentences = nltk.sent_tokenize(text_big)\n",
    "tagged_text_big = []\n",
    "\n",
    "for sentence in sentences:\n",
    "    tokens = nltk.word_tokenize(sentence)\n",
    "    tagged = nltk.pos_tag(tokens)\n",
    "    tagged_text_big.append(tagged)"
   ]
  },
  {
   "cell_type": "code",
   "execution_count": 113,
   "id": "bd5b9ea3",
   "metadata": {},
   "outputs": [],
   "source": [
    "word2idx = {'PAD': 0, 'UNK': 1}\n",
    "tag2idx = {'PAD': 0}\n",
    "\n",
    "for sent in tagged_text_big:\n",
    "    for word, tag in sent:\n",
    "        word_lower = word.lower()\n",
    "        if word_lower not in word2idx:\n",
    "            word2idx[word_lower] = len(word2idx)\n",
    "        if tag not in tag2idx:\n",
    "            tag2idx[tag] = len(tag2idx)\n",
    "\n",
    "idx2tag = {v: k for k, v in tag2idx.items()}"
   ]
  },
  {
   "cell_type": "code",
   "execution_count": 117,
   "id": "0494c840",
   "metadata": {},
   "outputs": [],
   "source": [
    "dataset = POSTagDataset(tagged_text_big, word2idx, tag2idx)\n",
    "\n",
    "LSTM = LSTMPOSTagger(\n",
    "    vocab_size=len(word2idx),\n",
    "    tagset_size=len(tag2idx),\n",
    "    embedding_dim=64,\n",
    "    hidden_dim=64,\n",
    "    pad_idx=word2idx['PAD']\n",
    ")"
   ]
  },
  {
   "cell_type": "code",
   "execution_count": 118,
   "id": "cfd3ec79",
   "metadata": {},
   "outputs": [
    {
     "name": "stdout",
     "output_type": "stream",
     "text": [
      "Epoch 1/100 - Loss: 94.1476\n",
      "Epoch 2/100 - Loss: 73.4120\n",
      "Epoch 3/100 - Loss: 59.2749\n",
      "Epoch 4/100 - Loss: 50.7676\n",
      "Epoch 5/100 - Loss: 44.5667\n",
      "Epoch 6/100 - Loss: 40.1255\n",
      "Epoch 7/100 - Loss: 36.1998\n",
      "Epoch 8/100 - Loss: 33.0339\n",
      "Epoch 9/100 - Loss: 30.8593\n",
      "Epoch 10/100 - Loss: 28.6322\n",
      "Epoch 11/100 - Loss: 26.7187\n",
      "Epoch 12/100 - Loss: 24.9698\n",
      "Epoch 13/100 - Loss: 23.2871\n",
      "Epoch 14/100 - Loss: 21.6985\n",
      "Epoch 15/100 - Loss: 20.3494\n",
      "Epoch 16/100 - Loss: 19.2059\n",
      "Epoch 17/100 - Loss: 17.9854\n",
      "Epoch 18/100 - Loss: 16.6814\n",
      "Epoch 19/100 - Loss: 15.6241\n",
      "Epoch 20/100 - Loss: 14.8344\n",
      "Epoch 21/100 - Loss: 13.6511\n",
      "Epoch 22/100 - Loss: 12.8000\n",
      "Epoch 23/100 - Loss: 12.2071\n",
      "Epoch 24/100 - Loss: 11.2776\n",
      "Epoch 25/100 - Loss: 10.5439\n",
      "Epoch 26/100 - Loss: 9.8990\n",
      "Epoch 27/100 - Loss: 9.3099\n",
      "Epoch 28/100 - Loss: 8.8406\n",
      "Epoch 29/100 - Loss: 8.1425\n",
      "Epoch 30/100 - Loss: 7.5875\n",
      "Epoch 31/100 - Loss: 7.1387\n",
      "Epoch 32/100 - Loss: 6.6061\n",
      "Epoch 33/100 - Loss: 6.2655\n",
      "Epoch 34/100 - Loss: 5.8852\n",
      "Epoch 35/100 - Loss: 5.5580\n",
      "Epoch 36/100 - Loss: 5.1688\n",
      "Epoch 37/100 - Loss: 4.7993\n",
      "Epoch 38/100 - Loss: 4.5103\n",
      "Epoch 39/100 - Loss: 4.2781\n",
      "Epoch 40/100 - Loss: 4.0396\n",
      "Epoch 41/100 - Loss: 3.6983\n",
      "Epoch 42/100 - Loss: 3.4902\n",
      "Epoch 43/100 - Loss: 3.2149\n",
      "Epoch 44/100 - Loss: 3.1292\n",
      "Epoch 45/100 - Loss: 2.8387\n",
      "Epoch 46/100 - Loss: 2.7209\n",
      "Epoch 47/100 - Loss: 2.5326\n",
      "Epoch 48/100 - Loss: 2.3689\n",
      "Epoch 49/100 - Loss: 2.2285\n",
      "Epoch 50/100 - Loss: 2.0835\n",
      "Epoch 51/100 - Loss: 2.0071\n",
      "Epoch 52/100 - Loss: 1.8846\n",
      "Epoch 53/100 - Loss: 1.7696\n",
      "Epoch 54/100 - Loss: 1.6986\n",
      "Epoch 55/100 - Loss: 1.5577\n",
      "Epoch 56/100 - Loss: 1.4609\n",
      "Epoch 57/100 - Loss: 1.3940\n",
      "Epoch 58/100 - Loss: 1.2973\n",
      "Epoch 59/100 - Loss: 1.2345\n",
      "Epoch 60/100 - Loss: 1.1952\n",
      "Epoch 61/100 - Loss: 1.1291\n",
      "Epoch 62/100 - Loss: 1.0646\n",
      "Epoch 63/100 - Loss: 1.0115\n",
      "Epoch 64/100 - Loss: 0.9730\n",
      "Epoch 65/100 - Loss: 0.9148\n",
      "Epoch 66/100 - Loss: 0.8706\n",
      "Epoch 67/100 - Loss: 0.8243\n",
      "Epoch 68/100 - Loss: 0.7875\n",
      "Epoch 69/100 - Loss: 0.7579\n",
      "Epoch 70/100 - Loss: 0.7178\n",
      "Epoch 71/100 - Loss: 0.6792\n",
      "Epoch 72/100 - Loss: 0.6783\n",
      "Epoch 73/100 - Loss: 0.6416\n",
      "Epoch 74/100 - Loss: 0.6009\n",
      "Epoch 75/100 - Loss: 0.5759\n",
      "Epoch 76/100 - Loss: 0.5577\n",
      "Epoch 77/100 - Loss: 0.5459\n",
      "Epoch 78/100 - Loss: 0.4995\n",
      "Epoch 79/100 - Loss: 0.4900\n",
      "Epoch 80/100 - Loss: 0.4683\n",
      "Epoch 81/100 - Loss: 0.4452\n",
      "Epoch 82/100 - Loss: 0.4311\n",
      "Epoch 83/100 - Loss: 0.4101\n",
      "Epoch 84/100 - Loss: 0.4022\n",
      "Epoch 85/100 - Loss: 0.3922\n",
      "Epoch 86/100 - Loss: 0.3716\n",
      "Epoch 87/100 - Loss: 0.3617\n",
      "Epoch 88/100 - Loss: 0.3457\n",
      "Epoch 89/100 - Loss: 0.3359\n",
      "Epoch 90/100 - Loss: 0.3243\n",
      "Epoch 91/100 - Loss: 0.3117\n",
      "Epoch 92/100 - Loss: 0.3035\n",
      "Epoch 93/100 - Loss: 0.2983\n",
      "Epoch 94/100 - Loss: 0.3016\n",
      "Epoch 95/100 - Loss: 0.2791\n",
      "Epoch 96/100 - Loss: 0.2691\n",
      "Epoch 97/100 - Loss: 0.2641\n",
      "Epoch 98/100 - Loss: 0.2553\n",
      "Epoch 99/100 - Loss: 0.2408\n",
      "Epoch 100/100 - Loss: 0.2578\n"
     ]
    }
   ],
   "source": [
    "train_model(LSTM, dataset, tag2idx, epochs=100)"
   ]
  },
  {
   "cell_type": "code",
   "execution_count": 119,
   "id": "39fb7b39",
   "metadata": {},
   "outputs": [
    {
     "name": "stdout",
     "output_type": "stream",
     "text": [
      "We           → PRP\n",
      "live         → VBP\n",
      "on           → IN\n",
      "a            → DT\n",
      "placid       → JJ\n",
      "island       → NN\n",
      "of           → IN\n",
      "ignorance    → NN\n",
      ".            → .\n"
     ]
    }
   ],
   "source": [
    "sentence = \"We live on a placid island of ignorance.\"\n",
    "tokens = re.findall(r'\\b\\w+\\b|[^\\w\\s]', sentence)\n",
    "tags = predict(LSTM, tokens, word2idx, idx2tag)\n",
    "\n",
    "for word, tag in tags:\n",
    "    print(f\"{word:12} → {tag}\")"
   ]
  },
  {
   "cell_type": "markdown",
   "id": "6d7dba93",
   "metadata": {},
   "source": [
    "better"
   ]
  }
 ],
 "metadata": {
  "kernelspec": {
   "display_name": "base",
   "language": "python",
   "name": "python3"
  },
  "language_info": {
   "codemirror_mode": {
    "name": "ipython",
    "version": 3
   },
   "file_extension": ".py",
   "mimetype": "text/x-python",
   "name": "python",
   "nbconvert_exporter": "python",
   "pygments_lexer": "ipython3",
   "version": "3.11.7"
  }
 },
 "nbformat": 4,
 "nbformat_minor": 5
}
